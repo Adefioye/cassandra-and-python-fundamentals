{
 "cells": [
  {
   "cell_type": "code",
   "execution_count": 1,
   "id": "serious-vector",
   "metadata": {},
   "outputs": [],
   "source": [
    "# Create a connection\n",
    "\n",
    "from cassandra.cluster import Cluster\n",
    "try: \n",
    "    cluster = Cluster(['127.0.0.1']) #If you have a locally installed Apache Cassandra instance\n",
    "    session = cluster.connect()\n",
    "except Exception as e:\n",
    "    print(e)"
   ]
  },
  {
   "cell_type": "code",
   "execution_count": 2,
   "id": "fossil-leonard",
   "metadata": {},
   "outputs": [],
   "source": [
    "# Create a keyspace\n",
    "try:\n",
    "    session.execute(\"\"\"\n",
    "    CREATE KEYSPACE IF NOT EXISTS killrvideo\n",
    "    WITH REPLICATION = \n",
    "    { 'class' : 'SimpleStrategy', 'replication_factor' : 1 }\"\"\"\n",
    ")\n",
    "\n",
    "except Exception as e:\n",
    "    print(e)"
   ]
  },
  {
   "cell_type": "code",
   "execution_count": 3,
   "id": "insured-ecuador",
   "metadata": {},
   "outputs": [],
   "source": [
    "# Set the keyspace\n",
    "try:\n",
    "    session.set_keyspace('killrvideo')\n",
    "except Exception as e:\n",
    "    print(e)"
   ]
  },
  {
   "cell_type": "code",
   "execution_count": 26,
   "id": "bizarre-sunset",
   "metadata": {},
   "outputs": [],
   "source": [
    "# partition key = tag and video_id = clustering column\n",
    "query = \"\"\"\n",
    "CREATE TABLE IF NOT EXISTS videos_by_tag(\n",
    "    tag text,\n",
    "    video_id text,\n",
    "    added_date timestamp,\n",
    "    title text,\n",
    "    PRIMARY KEY ((tag), added_date, video_id)\n",
    ")\n",
    "WITH CLUSTERING ORDER BY (added_date DESC);\n",
    "\"\"\"\n",
    "try:\n",
    "    session.execute(query)\n",
    "except Exception as e:\n",
    "    print(e)"
   ]
  },
  {
   "cell_type": "code",
   "execution_count": 27,
   "id": "finished-season",
   "metadata": {},
   "outputs": [],
   "source": [
    "import csv\n",
    "\n",
    "file = r'C:\\Users\\abdul\\cassandra-fundamentals\\foundations-of-apache-cassandra\\videos-by-tag.csv'\n",
    "\n",
    "with open(file) as f:\n",
    "    reader = csv.reader(f)\n",
    "    next(reader)\n",
    "    for line in reader:\n",
    "        query = \"INSERT INTO videos_by_tag(tag, video_id, added_date, title)\"\n",
    "        query = query + \"VALUES(%s, %s, %s, %s)\"\n",
    "        session.execute(query, (line[0], line[1], line[2], line[3]))"
   ]
  },
  {
   "cell_type": "markdown",
   "id": "formed-desktop",
   "metadata": {},
   "source": [
    "## Lets extract 3 columns from videos_by_tag (tag, video_id, added_date)"
   ]
  },
  {
   "cell_type": "code",
   "execution_count": 28,
   "id": "polished-necessity",
   "metadata": {},
   "outputs": [
    {
     "name": "stdout",
     "output_type": "stream",
     "text": [
      "datastax 4845ed97-14bd-11e5-8a40-8338255b7e33 2013-10-15 23:00:00\n",
      "datastax 5645f8bd-14bd-11e5-af1a-8638355b8e3a 2013-04-15 23:00:00\n",
      "cassandra 1645ea59-14bd-11e5-a993-8138354b7e31 2014-01-28 23:00:00\n",
      "cassandra 3452f7de-14bd-11e5-855e-8738355b7e3a 2013-03-16 23:00:00\n",
      "cassandra 245e8024-14bd-11e5-9743-8238356b7e32 2012-04-02 23:00:00\n"
     ]
    }
   ],
   "source": [
    "query = \"\"\"\n",
    "    SELECT tag, video_id, added_date\n",
    "    FROM videos_by_tag\n",
    "\"\"\"\n",
    "rows = session.execute(query)\n",
    "for row in rows:\n",
    "    print(row.tag, row.video_id, row.added_date)"
   ]
  },
  {
   "cell_type": "markdown",
   "id": "anticipated-peripheral",
   "metadata": {},
   "source": [
    "## Execute your query again, but list the oldest videos first\n",
    "\n",
    "To use IN keyword set PAGINATION OFF\n",
    "- This is done by setting `fetch_size=0` in the `SimpleStatement`"
   ]
  },
  {
   "cell_type": "code",
   "execution_count": 41,
   "id": "recent-alpha",
   "metadata": {},
   "outputs": [],
   "source": [
    "from cassandra.query import SimpleStatement"
   ]
  },
  {
   "cell_type": "code",
   "execution_count": 45,
   "id": "spectacular-cathedral",
   "metadata": {},
   "outputs": [],
   "source": [
    "#SimpleStatement?"
   ]
  },
  {
   "cell_type": "code",
   "execution_count": 55,
   "id": "dense-gauge",
   "metadata": {},
   "outputs": [
    {
     "name": "stdout",
     "output_type": "stream",
     "text": [
      "cassandra 245e8024-14bd-11e5-9743-8238356b7e32 2012-04-02 23:00:00\n",
      "cassandra 3452f7de-14bd-11e5-855e-8738355b7e3a 2013-03-16 23:00:00\n",
      "datastax 5645f8bd-14bd-11e5-af1a-8638355b8e3a 2013-04-15 23:00:00\n",
      "datastax 4845ed97-14bd-11e5-8a40-8338255b7e33 2013-10-15 23:00:00\n",
      "cassandra 1645ea59-14bd-11e5-a993-8138354b7e31 2014-01-28 23:00:00\n"
     ]
    }
   ],
   "source": [
    "query = \"\"\"\n",
    "    SELECT tag, video_id, added_date\n",
    "    FROM videos_by_tag\n",
    "    WHERE tag IN ('datastax', 'cassandra')\n",
    "    ORDER BY added_date;\n",
    "\"\"\"\n",
    "statement = SimpleStatement(query, fetch_size=0)\n",
    "for row in session.execute(statement):\n",
    "    print(row.tag, row.video_id, row.added_date)"
   ]
  },
  {
   "cell_type": "markdown",
   "id": "laughing-theme",
   "metadata": {},
   "source": [
    "## Change your query to restrict the partition key value to 'cassandra'"
   ]
  },
  {
   "cell_type": "code",
   "execution_count": 56,
   "id": "circular-depression",
   "metadata": {},
   "outputs": [
    {
     "name": "stdout",
     "output_type": "stream",
     "text": [
      "cassandra 1645ea59-14bd-11e5-a993-8138354b7e31 2014-01-28 23:00:00\n",
      "cassandra 3452f7de-14bd-11e5-855e-8738355b7e3a 2013-03-16 23:00:00\n",
      "cassandra 245e8024-14bd-11e5-9743-8238356b7e32 2012-04-02 23:00:00\n"
     ]
    }
   ],
   "source": [
    "query = \"\"\"\n",
    "    SELECT tag, video_id, added_date\n",
    "    FROM videos_by_tag\n",
    "    WHERE tag = 'cassandra'\n",
    "\"\"\"\n",
    "rows = session.execute(query)\n",
    "\n",
    "for row in rows:\n",
    "    print(row.tag, row.video_id, row.added_date)"
   ]
  },
  {
   "cell_type": "markdown",
   "id": "opened-sample",
   "metadata": {},
   "source": [
    "## Change your query to retrieve videos made in 2013 or later."
   ]
  },
  {
   "cell_type": "code",
   "execution_count": 59,
   "id": "exempt-butter",
   "metadata": {},
   "outputs": [
    {
     "name": "stdout",
     "output_type": "stream",
     "text": [
      "datastax 4845ed97-14bd-11e5-8a40-8338255b7e33 2013-10-15 23:00:00\n",
      "datastax 5645f8bd-14bd-11e5-af1a-8638355b8e3a 2013-04-15 23:00:00\n",
      "cassandra 1645ea59-14bd-11e5-a993-8138354b7e31 2014-01-28 23:00:00\n",
      "cassandra 3452f7de-14bd-11e5-855e-8738355b7e3a 2013-03-16 23:00:00\n"
     ]
    }
   ],
   "source": [
    "query = \"\"\"\n",
    "    SELECT tag, video_id, added_date\n",
    "    FROM videos_by_tag\n",
    "    WHERE added_date >= '2013-01-01'\n",
    "    ALLOW FILTERING\n",
    "\"\"\"\n",
    "\n",
    "rows = session.execute(query)\n",
    "\n",
    "for row in rows:\n",
    "    print(row.tag, row.video_id, row.added_date)"
   ]
  },
  {
   "cell_type": "markdown",
   "id": "automotive-onion",
   "metadata": {},
   "source": [
    "- DROP THE TABLE"
   ]
  },
  {
   "cell_type": "code",
   "execution_count": 60,
   "id": "utility-departure",
   "metadata": {},
   "outputs": [],
   "source": [
    "query = \"DROP TABLE IF EXISTS videos_by_tag\"\n",
    "try:\n",
    "    session.execute(query)\n",
    "except Exception as e:\n",
    "    print(e)"
   ]
  },
  {
   "cell_type": "code",
   "execution_count": 61,
   "id": "electronic-madagascar",
   "metadata": {},
   "outputs": [],
   "source": [
    "session.shutdown()\n",
    "cluster.shutdown()"
   ]
  },
  {
   "cell_type": "code",
   "execution_count": null,
   "id": "coral-cycling",
   "metadata": {},
   "outputs": [],
   "source": []
  }
 ],
 "metadata": {
  "kernelspec": {
   "display_name": "Python 3",
   "language": "python",
   "name": "python3"
  },
  "language_info": {
   "codemirror_mode": {
    "name": "ipython",
    "version": 3
   },
   "file_extension": ".py",
   "mimetype": "text/x-python",
   "name": "python",
   "nbconvert_exporter": "python",
   "pygments_lexer": "ipython3",
   "version": "3.7.6"
  }
 },
 "nbformat": 4,
 "nbformat_minor": 5
}
