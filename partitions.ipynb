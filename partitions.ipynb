{
 "cells": [
  {
   "cell_type": "code",
   "execution_count": 2,
   "id": "provincial-musician",
   "metadata": {},
   "outputs": [],
   "source": [
    "# Create a connection\n",
    "\n",
    "from cassandra.cluster import Cluster\n",
    "try: \n",
    "    cluster = Cluster(['127.0.0.1']) #If you have a locally installed Apache Cassandra instance\n",
    "    session = cluster.connect()\n",
    "except Exception as e:\n",
    "    print(e)"
   ]
  },
  {
   "cell_type": "code",
   "execution_count": 3,
   "id": "differential-dominant",
   "metadata": {},
   "outputs": [],
   "source": [
    "# Create a keyspace\n",
    "try:\n",
    "    session.execute(\"\"\"\n",
    "    CREATE KEYSPACE IF NOT EXISTS killrvideo\n",
    "    WITH REPLICATION = \n",
    "    { 'class' : 'SimpleStrategy', 'replication_factor' : 1 }\"\"\"\n",
    ")\n",
    "\n",
    "except Exception as e:\n",
    "    print(e)"
   ]
  },
  {
   "cell_type": "code",
   "execution_count": 4,
   "id": "creative-manhattan",
   "metadata": {},
   "outputs": [],
   "source": [
    "# Set the keyspace\n",
    "try:\n",
    "    session.set_keyspace('killrvideo')\n",
    "except Exception as e:\n",
    "    print(e)"
   ]
  },
  {
   "cell_type": "code",
   "execution_count": 5,
   "id": "massive-former",
   "metadata": {},
   "outputs": [],
   "source": [
    "# partition key = tag and video_id = clustering column\n",
    "query = \"\"\"\n",
    "CREATE TABLE IF NOT EXISTS videos_by_tag(\n",
    "    tag text,\n",
    "    video_id text,\n",
    "    added_date text,\n",
    "    title text,\n",
    "    PRIMARY KEY ((tag),video_id)\n",
    ")\n",
    "\"\"\"\n",
    "try:\n",
    "    session.execute(query)\n",
    "except Exception as e:\n",
    "    print(e)"
   ]
  },
  {
   "cell_type": "markdown",
   "id": "final-fault",
   "metadata": {},
   "source": [
    "- Insert data from videos-by-tag.csv into the videos_by_tag table"
   ]
  },
  {
   "cell_type": "code",
   "execution_count": 6,
   "id": "characteristic-relay",
   "metadata": {},
   "outputs": [],
   "source": [
    "import csv"
   ]
  },
  {
   "cell_type": "code",
   "execution_count": 8,
   "id": "retained-concentration",
   "metadata": {},
   "outputs": [],
   "source": [
    "file = r'C:\\Users\\abdul\\cassandra-fundamentals\\foundations-of-apache-cassandra\\videos-by-tag.csv'\n",
    "\n",
    "with open(file) as f:\n",
    "    reader = csv.reader(f)\n",
    "    next(reader)\n",
    "    for line in reader:\n",
    "        query = \"INSERT INTO videos_by_tag(tag, video_id, added_date, title)\"\n",
    "        query = query + \"VALUES(%s, %s, %s, %s)\"\n",
    "        session.execute(query, (line[0], line[1], line[2], line[3]))   "
   ]
  },
  {
   "cell_type": "markdown",
   "id": "southern-battlefield",
   "metadata": {},
   "source": [
    "- Lets confirm that the data has been correctly inserted"
   ]
  },
  {
   "cell_type": "code",
   "execution_count": 9,
   "id": "structural-track",
   "metadata": {},
   "outputs": [
    {
     "name": "stdout",
     "output_type": "stream",
     "text": [
      "datastax 4845ed97-14bd-11e5-8a40-8338255b7e33 2013-10-16 DataStax Studio\n",
      "datastax 5645f8bd-14bd-11e5-af1a-8638355b8e3a 2013-04-16 What is DataStax Enterprise?\n",
      "cassandra 1645ea59-14bd-11e5-a993-8138354b7e31 2014-01-29 Cassandra History\n",
      "cassandra 245e8024-14bd-11e5-9743-8238356b7e32 2012-04-03 Cassandra & SSDs\n",
      "cassandra 3452f7de-14bd-11e5-855e-8738355b7e3a 2013-03-17 Cassandra Intro\n"
     ]
    }
   ],
   "source": [
    "query = \"SELECT * FROM videos_by_tag\"\n",
    "rows = session.execute(query)\n",
    "for row in rows:\n",
    "    print(row.tag, row.video_id, row.added_date, row.title)"
   ]
  },
  {
   "cell_type": "markdown",
   "id": "separated-flower",
   "metadata": {},
   "source": [
    "- Lets us query data with tag = datastax"
   ]
  },
  {
   "cell_type": "code",
   "execution_count": 11,
   "id": "conscious-receiver",
   "metadata": {},
   "outputs": [
    {
     "name": "stdout",
     "output_type": "stream",
     "text": [
      "datastax 4845ed97-14bd-11e5-8a40-8338255b7e33 2013-10-16 DataStax Studio\n",
      "datastax 5645f8bd-14bd-11e5-af1a-8638355b8e3a 2013-04-16 What is DataStax Enterprise?\n"
     ]
    }
   ],
   "source": [
    "query = \"SELECT * FROM videos_by_tag WHERE tag='datastax'\"\n",
    "rows = session.execute(query)\n",
    "for row in rows:\n",
    "    print(row.tag, row.video_id, row.added_date, row.title)"
   ]
  },
  {
   "cell_type": "markdown",
   "id": "approximate-purse",
   "metadata": {},
   "source": [
    "- Lets us query data with tag = cassandra"
   ]
  },
  {
   "cell_type": "code",
   "execution_count": 12,
   "id": "indoor-detective",
   "metadata": {},
   "outputs": [
    {
     "name": "stdout",
     "output_type": "stream",
     "text": [
      "cassandra 1645ea59-14bd-11e5-a993-8138354b7e31 2014-01-29 Cassandra History\n",
      "cassandra 245e8024-14bd-11e5-9743-8238356b7e32 2012-04-03 Cassandra & SSDs\n",
      "cassandra 3452f7de-14bd-11e5-855e-8738355b7e3a 2013-03-17 Cassandra Intro\n"
     ]
    }
   ],
   "source": [
    "query = \"SELECT * FROM videos_by_tag WHERE tag='cassandra'\"\n",
    "rows = session.execute(query)\n",
    "for row in rows:\n",
    "    print(row.tag, row.video_id, row.added_date, row.title)"
   ]
  },
  {
   "cell_type": "code",
   "execution_count": 13,
   "id": "apart-castle",
   "metadata": {},
   "outputs": [],
   "source": [
    "query = \"DROP TABLE IF EXISTS videos_by_tag\"\n",
    "try:\n",
    "    session.execute(query)\n",
    "except Exception as e:\n",
    "    print(e)"
   ]
  },
  {
   "cell_type": "code",
   "execution_count": 14,
   "id": "valid-soccer",
   "metadata": {},
   "outputs": [],
   "source": [
    "session.shutdown()\n",
    "cluster.shutdown()"
   ]
  },
  {
   "cell_type": "code",
   "execution_count": null,
   "id": "ranging-country",
   "metadata": {},
   "outputs": [],
   "source": []
  }
 ],
 "metadata": {
  "kernelspec": {
   "display_name": "Python 3",
   "language": "python",
   "name": "python3"
  },
  "language_info": {
   "codemirror_mode": {
    "name": "ipython",
    "version": 3
   },
   "file_extension": ".py",
   "mimetype": "text/x-python",
   "name": "python",
   "nbconvert_exporter": "python",
   "pygments_lexer": "ipython3",
   "version": "3.7.6"
  }
 },
 "nbformat": 4,
 "nbformat_minor": 5
}
