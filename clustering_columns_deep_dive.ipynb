{
 "cells": [
  {
   "cell_type": "code",
   "execution_count": 16,
   "id": "virtual-notice",
   "metadata": {},
   "outputs": [],
   "source": [
    "# Create a connection\n",
    "\n",
    "from cassandra.cluster import Cluster\n",
    "try: \n",
    "    cluster = Cluster(['127.0.0.1']) #If you have a locally installed Apache Cassandra instance\n",
    "    session = cluster.connect()\n",
    "except Exception as e:\n",
    "    print(e)"
   ]
  },
  {
   "cell_type": "code",
   "execution_count": 17,
   "id": "velvet-aaron",
   "metadata": {},
   "outputs": [],
   "source": [
    "# Create a keyspace\n",
    "try:\n",
    "    session.execute(\"\"\"\n",
    "    CREATE KEYSPACE IF NOT EXISTS killrvideo\n",
    "    WITH REPLICATION = \n",
    "    { 'class' : 'SimpleStrategy', 'replication_factor' : 1 }\"\"\"\n",
    ")\n",
    "\n",
    "except Exception as e:\n",
    "    print(e)"
   ]
  },
  {
   "cell_type": "code",
   "execution_count": 18,
   "id": "middle-mechanism",
   "metadata": {},
   "outputs": [],
   "source": [
    "# Set the keyspace\n",
    "try:\n",
    "    session.set_keyspace('killrvideo')\n",
    "except Exception as e:\n",
    "    print(e)"
   ]
  },
  {
   "cell_type": "markdown",
   "id": "dependent-recognition",
   "metadata": {},
   "source": [
    "## Create a bad table with non-unique partition"
   ]
  },
  {
   "cell_type": "code",
   "execution_count": 33,
   "id": "grand-opportunity",
   "metadata": {},
   "outputs": [],
   "source": [
    "query = \"\"\"\n",
    "CREATE TABLE IF NOT EXISTS bad_videos_by_tag_year(\n",
    "    tag text,\n",
    "    added_year int,\n",
    "    video_id timeuuid,\n",
    "    added_date timestamp,\n",
    "    description text,\n",
    "    title text,\n",
    "    user_id uuid,\n",
    "    PRIMARY KEY ((video_id))\n",
    ")\n",
    "\"\"\"\n",
    "try:\n",
    "    session.execute(query)\n",
    "except Exception as e:\n",
    "    print(e)"
   ]
  },
  {
   "cell_type": "markdown",
   "id": "silent-register",
   "metadata": {},
   "source": [
    "# Load data"
   ]
  },
  {
   "cell_type": "code",
   "execution_count": 34,
   "id": "round-fruit",
   "metadata": {},
   "outputs": [],
   "source": [
    "import csv\n",
    "import uuid\n",
    "import datetime\n",
    "import pandas as pd"
   ]
  },
  {
   "cell_type": "code",
   "execution_count": 35,
   "id": "rational-spider",
   "metadata": {},
   "outputs": [],
   "source": [
    "file =  r'C:\\Users\\abdul\\cassandra-fundamentals\\foundations-of-apache-cassandra\\data\\videos_by_tag_year.csv'"
   ]
  },
  {
   "cell_type": "code",
   "execution_count": 36,
   "id": "varied-jackson",
   "metadata": {},
   "outputs": [],
   "source": [
    "# df = pd.read_csv(file)\n",
    "# # Remove spaces from the column names\n",
    "# df.columns = [column.strip() for column in df.columns]\n",
    "# # drop the \n",
    "# df.drop(columns='Unnamed: 7', inplace=True)\n",
    "# df['added date'] = df['added date'].str.strip()\n",
    "# df.columns"
   ]
  },
  {
   "cell_type": "code",
   "execution_count": 37,
   "id": "equivalent-couple",
   "metadata": {},
   "outputs": [],
   "source": [
    "#  f\"The length of the dataframe: {df.shape[0]}\""
   ]
  },
  {
   "cell_type": "markdown",
   "id": "preceding-adrian",
   "metadata": {},
   "source": [
    "# Lets load data"
   ]
  },
  {
   "cell_type": "code",
   "execution_count": 38,
   "id": "sapphire-withdrawal",
   "metadata": {},
   "outputs": [],
   "source": [
    "# df.columns"
   ]
  },
  {
   "cell_type": "code",
   "execution_count": 39,
   "id": "nuclear-vietnamese",
   "metadata": {},
   "outputs": [],
   "source": [
    "# df.head()"
   ]
  },
  {
   "cell_type": "code",
   "execution_count": 40,
   "id": "designing-chance",
   "metadata": {},
   "outputs": [],
   "source": [
    "# df['added year'][0].dtype"
   ]
  },
  {
   "cell_type": "code",
   "execution_count": 41,
   "id": "million-breakfast",
   "metadata": {},
   "outputs": [],
   "source": [
    "# for index, row in df.iterrows():\n",
    "#     tag = row['tag']\n",
    "#     added_year = row['added year']\n",
    "#     video_id = uuid.UUID(row['video id'])\n",
    "#     added_date = row['added date']\n",
    "#     if '/' in added_date:\n",
    "#         added_date = datetime.datetime.strptime(added_date, \"%m/%d/%Y\")\n",
    "#     else:\n",
    "#         added_date = added_date\n",
    "        \n",
    "#         #datetime.datetime.strptime(added_date, \"%Y-%m-%d %H:%M:%S%z\")\n",
    "#     description = row['description']\n",
    "#     title = row['title']\n",
    "#     user_id = uuid.UUID(row['user id'])\n",
    "    \n",
    "#     query = \"INSERT INTO bad_videos_by_tag_year(tag, added_year, video_id, added_date, description, title, user_id)\"\n",
    "#     query = query + \"VALUES(%s, %s, %s, %s, %s, %s, %s)\"\n",
    "    \n",
    "#     session.execute(query, (tag, added_year, video_id, added_date, description, title, user_id))"
   ]
  },
  {
   "cell_type": "markdown",
   "id": "african-groove",
   "metadata": {},
   "source": [
    "## Create a bad table with non-unique partition"
   ]
  },
  {
   "cell_type": "code",
   "execution_count": null,
   "id": "welsh-heath",
   "metadata": {},
   "outputs": [],
   "source": [
    "query = \"\"\"\n",
    "CREATE TABLE IF NOT EXISTS bad_videos_by_tag_year(\n",
    "    tag text,\n",
    "    added_year int,\n",
    "    video_id timeuuid,\n",
    "    added_date timestamp,\n",
    "    description text,\n",
    "    title text,\n",
    "    user_id uuid,\n",
    "    PRIMARY KEY ((video_id))\n",
    ")\n",
    "\"\"\"\n",
    "try:\n",
    "    session.execute(query)\n",
    "except Exception as e:\n",
    "    print(e)"
   ]
  },
  {
   "cell_type": "code",
   "execution_count": 42,
   "id": "emerging-birmingham",
   "metadata": {},
   "outputs": [],
   "source": [
    "# Iterating through csv bringing about error in reading data along rows\n",
    "\n",
    "file =  r'C:\\Users\\abdul\\cassandra-fundamentals\\foundations-of-apache-cassandra\\data\\videos_by_tag_year.csv'\n",
    "\n",
    "with open(file, encoding=\"utf8\") as f:\n",
    "    reader = csv.reader(f)\n",
    "    next(reader)\n",
    "    for line in reader:\n",
    "        query = \"INSERT INTO bad_videos_by_tag_year(tag, added_year, video_id, added_date, description, title, user_id)\"\n",
    "        query = query + \"VALUES(%s, %s, %s, %s, %s, %s, %s)\"\n",
    "        \n",
    "        tag = line[0]\n",
    "        added_year = int(line[1])\n",
    "        video_id = uuid.UUID(line[2])\n",
    "        added_date = line[3]\n",
    "        if \"/\" in added_date:\n",
    "            added_date = datetime.datetime.strptime(added_date, \"%m/%d/%Y\")\n",
    "        else:\n",
    "            added_date = datetime.datetime.strptime(added_date, \"%Y-%m-%d %H:%M:%S%z\") #2015-03-29 08:00:03+0000\n",
    "            \n",
    "        description = line[4]\n",
    "        title = line[5]\n",
    "        user_id= uuid.UUID(line[6])\n",
    "        \n",
    "        session.execute(query, (tag, added_year, video_id, added_date, description, title, user_id))"
   ]
  },
  {
   "cell_type": "code",
   "execution_count": 43,
   "id": "moving-jersey",
   "metadata": {},
   "outputs": [
    {
     "name": "stdout",
     "output_type": "stream",
     "text": [
      "Row(count=422)\n"
     ]
    }
   ],
   "source": [
    "query = \"SELECT COUNT(*) FROM bad_videos_by_tag_year\"\n",
    "try:\n",
    "    rows = session.execute(query)\n",
    "except Exception as e:\n",
    "    print(e)\n",
    "    \n",
    "for row in rows:\n",
    "    print(row)"
   ]
  },
  {
   "cell_type": "markdown",
   "id": "potential-persian",
   "metadata": {},
   "source": [
    "- The number of rows is not `422` instead `797` just like what we have in the `csv` data. THis is because the primary key we used is not unique so we got duplicates of video_id data. Hence upon adding existing video_id values, the cassandra engine replace the old insert with new insert of duplicated video_id values.\n",
    "\n",
    "To solve teh above problem, we need to make our PRIMARY KEY UNIQUE for every row in the data"
   ]
  },
  {
   "cell_type": "code",
   "execution_count": 51,
   "id": "incident-thesis",
   "metadata": {},
   "outputs": [],
   "source": [
    "query = \"\"\"\n",
    "CREATE TABLE IF NOT EXISTS videos_by_tag_year(\n",
    "    tag text,\n",
    "    added_year int,\n",
    "    video_id timeuuid,\n",
    "    added_date timestamp,\n",
    "    description text,\n",
    "    title text,\n",
    "    user_id uuid,\n",
    "    PRIMARY KEY ((tag, video_id), added_year)\n",
    ")\n",
    "WITH CLUSTERING ORDER BY(added_year DESC)\n",
    "\"\"\"\n",
    "try:\n",
    "    session.execute(query)\n",
    "except Exception as e:\n",
    "    print(e)"
   ]
  },
  {
   "cell_type": "code",
   "execution_count": 52,
   "id": "embedded-cutting",
   "metadata": {},
   "outputs": [],
   "source": [
    "file =  r'C:\\Users\\abdul\\cassandra-fundamentals\\foundations-of-apache-cassandra\\data\\videos_by_tag_year.csv'\n",
    "\n",
    "with open(file, encoding=\"utf8\") as f:\n",
    "    reader = csv.reader(f)\n",
    "    next(reader)\n",
    "    for line in reader:\n",
    "        query = \"INSERT INTO videos_by_tag_year(tag, added_year, video_id, added_date, description, title, user_id)\"\n",
    "        query = query + \"VALUES(%s, %s, %s, %s, %s, %s, %s)\"\n",
    "        \n",
    "        tag = line[0]\n",
    "        added_year = int(line[1])\n",
    "        video_id = uuid.UUID(line[2])\n",
    "        added_date = line[3]\n",
    "        if \"/\" in added_date:\n",
    "            added_date = datetime.datetime.strptime(added_date, \"%m/%d/%Y\")\n",
    "        else:\n",
    "            added_date = datetime.datetime.strptime(added_date, \"%Y-%m-%d %H:%M:%S%z\") #2015-03-29 08:00:03+0000\n",
    "            \n",
    "        description = line[4]\n",
    "        title = line[5]\n",
    "        user_id= uuid.UUID(line[6])\n",
    "        \n",
    "        session.execute(query, (tag, added_year, video_id, added_date, description, title, user_id))"
   ]
  },
  {
   "cell_type": "code",
   "execution_count": 53,
   "id": "mediterranean-combat",
   "metadata": {},
   "outputs": [
    {
     "name": "stdout",
     "output_type": "stream",
     "text": [
      "Row(count=797)\n"
     ]
    }
   ],
   "source": [
    "query = \"SELECT COUNT(*) FROM videos_by_tag_year\"\n",
    "try:\n",
    "    rows = session.execute(query)\n",
    "except Exception as e:\n",
    "    print(e)\n",
    "    \n",
    "for row in rows:\n",
    "    print(row)"
   ]
  },
  {
   "cell_type": "markdown",
   "id": "reasonable-developer",
   "metadata": {},
   "source": [
    "## RUN QUERIES"
   ]
  },
  {
   "attachments": {
    "b5d80b16-fcc8-495e-86de-b30c38cf6dd5.png": {
     "image/png": "[encoded data removed]"
    }
   },
   "cell_type": "markdown",
   "id": "domestic-moment",
   "metadata": {},
   "source": [
    "![image.png](attachment:b5d80b16-fcc8-495e-86de-b30c38cf6dd5.png)"
   ]
  },
  {
   "cell_type": "markdown",
   "id": "valuable-edward",
   "metadata": {},
   "source": [
    "### Query 1"
   ]
  },
  {
   "cell_type": "code",
   "execution_count": 58,
   "id": "noble-guidance",
   "metadata": {},
   "outputs": [
    {
     "name": "stdout",
     "output_type": "stream",
     "text": [
      "584bbdbc-41e5-19d4-bda2-e6f4d1ec1f4a trailer WASH Multifamily Laundry Systems is growing rapidly and using Microsoft Cloud solutions such as Azure Machine Learning and Power BI to analyze data from ... Woman in Gold Official Trailer #2 (2015) - Helen Mirren, Ryan Reynolds Movie HD\n",
      "c3fa0ebe-d511-1d1a-8c97-02ff0e88957a trailer Dr. Gupta and a representative from the Make-A-Wish Foundation meet with a terminally ill boy, but the things he wants to do before he dies makes them both very uncomfortable.\\n\\nWatch more Key & Peele: http://on.cc.com/1wa82It Hotel Transylvania 2 Official International Teaser Trailer #1 (2015) - Animated Sequel HD\n",
      "24153e4f-123d-1cbe-a767-d9a28972a31d trailer This is a crash course introduction to Cassandra. You'll step away understanding how it's possible to to utilize this distributed database to achieve high availability across multiple data centers, scale out as your needs grow, and not be woken up at 3am just because a server failed. We'll cover the basics of data modeling with CQL, and understand how that data is stored on disk. We'll wrap things up by setting up Cassandra locally, so bring your lapt The Last: Naruto the Movie Official US Release Trailer (2015) - Anime Action Adventure HD\n",
      "ef619531-a103-17d0-8d0c-a0a2b41ede2b trailer DataStax is hiring, Join us! Ready to join a fast paced start-up headquartered in the heart of Silicon Valley? At DataStax we are on the forefront of an incr... A Royal Night Out Official UK Trailer #1 (2015) - Sarah Gadon, Emily Watson Movie HD\n",
      "6747bc1c-c313-110a-a23a-d15b9b2e6741 trailer This video discusses Azure HDInsight. Gain insights from real-life customer scenarios and learn to use Hadoop in your environment to solve big data challenge. Hot Tub Time Machine 2 Official Red Band Trailer #2 (2014) - Craig Robinson, Adam Scott Movie HD\n",
      "14f0a299-9b27-1a15-9a83-116fce653f40 trailer Part Two of Two! Corey is back with more information on Microsoft's partnership with Docker. The Tale of Tales Official Trailer #1 (2015) - Salma Hayek, John C. Reilly Movie HD\n",
      "2b58135c-777c-14bd-95be-fdb3d1e4bef6 trailer Subscribe to TRAILERS:\\xa0http://bit.ly/sxaw6h\\nSubscribe to COMING SOON:\\xa0http://bit.ly/H2vZUn\\nLike us on FACEBOOK:\\xa0http://goo.gl/dHs73\\nRoboCop TRAILER 1 (2014) - Samuel L. Jackson, Abbie Cornish Movie HD\\n\\n\\nRobocop gets rebooted in this big-screen MGM production from director José Padilha. The picture will once again surround a slain police officer (played by The Killing's Joel Kinnaman) who gets resurrected as a crime-fighting cyborg until memories of his previous life begin to make him doubt his corrupt corporate overlords. Gary Oldman co-stars as the doctor who suffers a crisis-of-conscience after bringing life back to the man in the form of a mechanical body and reprogrammed brain, while Samuel L. Jackson plays a larger-than-life media mogul.\\n\\nmovieclips \\movie clips\\ movieclipstrailers \\\\new trailers\\\\\" \\\\\"trailers HD\\\\\" hd trailers movieclipsDOTcom trailer 2013 official HD zefr \\\\\"robocop trailer\\\\\" robocop robots \\\\\"gary oldman\\\\\" \\\\\"michael keaton\\\\\" \\\\\"José Padilha\\\\\" \\\\\"Douglas Urbanski\\\\\" \\\\\"abbie cornish\\\\\" \\\\\"Jay Baruchel\\\\\" \\\\\"Joel Kinnaman\\\\\" \\\\\"samuel l. jackson\\\\\" etimmons 2014 police cop\\\"\\\"\" Spectre Official Teaser Trailer #1 (2015) - Daniel Craig Movie HD\n",
      "ccc13504-201c-15aa-ba48-d1ffa34cd7c7 trailer Dr. Evil (Mike Myers) interrupts Sam Smith's (Taran Killam) Christmas special to address North Korea and Sony Pictures directly about the hack. Get more SNL ... RoboCop TRAILER 1 (2014) - Samuel L. Jackson, Abbie Cornish Movie HD\n",
      "5eb144ca-4c3f-1ac7-85ad-f536bee0d645 trailer  Batman v. Superman: Dawn Of Justice Official Sneak Peek (2015) - Ben Affleck, Henry Cavill Movie HD\n",
      "b9d9655f-5c53-1000-b93b-82d44a8f9ef7 trailer Increasing regulations on patient data, expanding and ever-changing data volumes and formats, and the need for real-time analytics are adding new levels of c. Fifty Shades of Grey Official Super Bowl TV Spot (2015) - Jamie Dornan, Dakota Johnson Movie HD\n",
      "bc03d4ab-4097-17cb-b33d-9b15bfcd8938 trailer  Poltergeist Official Teaer Trailer #1 (2015) - Sam Rockwell, Rosemarie DeWitt Movie HD\n",
      "ea049e24-a6dc-17df-9a06-96a6c5d58300 trailer Microsoft is excited about strong partner momentum around Microsoft Azure Machine Learning and our Advanced Analytics offerings. Hundreds of partners have ... Seventh Son Official Comflix Trailer (2015) - Ben Barnes, Jeff Bridges Movie HD\n",
      "0a29f63f-2d6c-10c5-b385-8c55d3dcc2fc trailer SNL host Taraji P. Henson answers questions from fans on Twitter, about everything from how Empire has changed her life to her all-time favorite SNL character. Marcus Johns Oscar Red Carpet Recap (2015) - Celebs & Selfies HD\n",
      "d95cb296-d60e-1c30-8e52-eb22b23f53c9 trailer  Mission: Impossible Rogue Nation Official Teaser Trailer (2015) - Tom Cruise Action Sequel HD\n",
      "6725f628-90b8-1a89-bd40-cb78b036fd32 trailer Kevin Hart hosts Saturday Night Live with musical guest Sia on January 17, 2015. Get more SNL on Hulu Plus: http://www.hulu.com/saturday-night-live Get more ... Focus Official Trailer #3 (2015) - Will Smith, Margot Robbie Movie HD\n"
     ]
    }
   ],
   "source": [
    "query = \"\"\"\n",
    "    SELECT video_id, tag, description, title\n",
    "    FROM videos_by_tag_year\n",
    "    WHERE tag='trailer' AND added_year=2015 ALLOW FILTERING\n",
    "\"\"\"\n",
    "try:\n",
    "    rows = session.execute(query)\n",
    "except Exception as e:\n",
    "    print(e)\n",
    "    \n",
    "for row in rows:\n",
    "    print(row.video_id, row.tag, row.description, row.title)"
   ]
  },
  {
   "cell_type": "markdown",
   "id": "amino-influence",
   "metadata": {},
   "source": [
    "### Query 2"
   ]
  },
  {
   "cell_type": "code",
   "execution_count": 59,
   "id": "headed-rebound",
   "metadata": {},
   "outputs": [
    {
     "name": "stdout",
     "output_type": "stream",
     "text": [
      "b68132a3-7a41-10b3-9d9e-f60d2acf59bd cql Speaker: J.B. Langston Company: DataStax I'll give a general lay of the land for troubleshooting Cassandra. I'll show you what to look for in the logs, what ... The Last Pickle: Lesser Known Features of Cassandra 2.0 and 2.1\n"
     ]
    }
   ],
   "source": [
    "query = \"\"\"\n",
    "    SELECT video_id, tag, description, title\n",
    "    FROM videos_by_tag_year\n",
    "    WHERE tag='cql' AND added_year=2014 ALLOW FILTERING\n",
    "\"\"\"\n",
    "try:\n",
    "    rows = session.execute(query)\n",
    "except Exception as e:\n",
    "    print(e)\n",
    "    \n",
    "for row in rows:\n",
    "    print(row.video_id, row.tag, row.description, row.title)"
   ]
  },
  {
   "cell_type": "markdown",
   "id": "injured-christmas",
   "metadata": {},
   "source": [
    "### Query 3"
   ]
  },
  {
   "cell_type": "code",
   "execution_count": 60,
   "id": "waiting-expression",
   "metadata": {},
   "outputs": [
    {
     "name": "stdout",
     "output_type": "stream",
     "text": [
      "dab20eb0-e9a3-1a47-8fc2-672b8bccfbb0 spark Grumpy cat takes a nap on top of my niece. Check out our website: www.grumpycats.com New Tshirts at: ... Databricks: Apache Spark - The SDK for All Big Data Platforms \n"
     ]
    }
   ],
   "source": [
    "query = \"\"\"\n",
    "    SELECT video_id, tag, description, title\n",
    "    FROM videos_by_tag_year\n",
    "    WHERE tag='spark' AND added_year=2014 ALLOW FILTERING\n",
    "\"\"\"\n",
    "try:\n",
    "    rows = session.execute(query)\n",
    "except Exception as e:\n",
    "    print(e)\n",
    "    \n",
    "for row in rows:\n",
    "    print(row.video_id, row.tag, row.description, row.title)"
   ]
  },
  {
   "cell_type": "markdown",
   "id": "executed-implement",
   "metadata": {},
   "source": [
    "### Try querying for all videos with tag \"cql\" added before the year 2015."
   ]
  },
  {
   "cell_type": "code",
   "execution_count": 61,
   "id": "opposite-ceremony",
   "metadata": {},
   "outputs": [
    {
     "name": "stdout",
     "output_type": "stream",
     "text": [
      "b68132a3-7a41-10b3-9d9e-f60d2acf59bd cql Speaker: J.B. Langston Company: DataStax I'll give a general lay of the land for troubleshooting Cassandra. I'll show you what to look for in the logs, what ... The Last Pickle: Lesser Known Features of Cassandra 2.0 and 2.1\n"
     ]
    }
   ],
   "source": [
    "query = \"\"\"\n",
    "    SELECT video_id, tag, description, title\n",
    "    FROM videos_by_tag_year\n",
    "    WHERE tag='cql' AND added_year<2015 ALLOW FILTERING\n",
    "\"\"\"\n",
    "try:\n",
    "    rows = session.execute(query)\n",
    "except Exception as e:\n",
    "    print(e)\n",
    "    \n",
    "for row in rows:\n",
    "    print(row.video_id, row.tag, row.description, row.title)"
   ]
  },
  {
   "cell_type": "markdown",
   "id": "immediate-rapid",
   "metadata": {},
   "source": [
    "### Try querying for all videos added before 2015."
   ]
  },
  {
   "cell_type": "code",
   "execution_count": 63,
   "id": "parental-mining",
   "metadata": {},
   "outputs": [
    {
     "name": "stdout",
     "output_type": "stream",
     "text": [
      "Error from server: code=2200 [Invalid query] message=\"Cannot execute this query as it might involve data filtering and thus may have unpredictable performance. If you want to execute this query despite the performance unpredictability, use ALLOW FILTERING\"\n"
     ]
    }
   ],
   "source": [
    "query = \"\"\"\n",
    "    SELECT video_id, tag, description, title\n",
    "    FROM videos_by_tag_year\n",
    "    WHERE added_year<2015\n",
    "\"\"\"\n",
    "try:\n",
    "    rows = session.execute(query)\n",
    "except Exception as e:\n",
    "    print(e)\n",
    "    \n",
    "for row in rows:\n",
    "    print(row.video_id, row.tag, row.description, row.title)"
   ]
  },
  {
   "cell_type": "markdown",
   "id": "increasing-rough",
   "metadata": {},
   "source": [
    "- IF we introduce allow filtering to the above, it will work"
   ]
  },
  {
   "cell_type": "markdown",
   "id": "mighty-drive",
   "metadata": {},
   "source": [
    "# Drop table"
   ]
  },
  {
   "cell_type": "code",
   "execution_count": 65,
   "id": "published-lemon",
   "metadata": {},
   "outputs": [],
   "source": [
    "query = \"DROP TABLE IF EXISTS bad_videos_by_tag_year\"\n",
    "try:\n",
    "    session.execute(query)\n",
    "except Exception as e:\n",
    "    print(e)\n",
    "query = \"DROP TABLE IF EXISTS videos_by_tag_year\"\n",
    "try:\n",
    "    session.execute(query)\n",
    "except Exception as e:\n",
    "    print(e)"
   ]
  },
  {
   "cell_type": "code",
   "execution_count": null,
   "id": "living-skiing",
   "metadata": {},
   "outputs": [],
   "source": []
  }
 ],
 "metadata": {
  "kernelspec": {
   "display_name": "Python 3",
   "language": "python",
   "name": "python3"
  },
  "language_info": {
   "codemirror_mode": {
    "name": "ipython",
    "version": 3
   },
   "file_extension": ".py",
   "mimetype": "text/x-python",
   "name": "python",
   "nbconvert_exporter": "python",
   "pygments_lexer": "ipython3",
   "version": "3.7.6"
  }
 },
 "nbformat": 4,
 "nbformat_minor": 5
}
