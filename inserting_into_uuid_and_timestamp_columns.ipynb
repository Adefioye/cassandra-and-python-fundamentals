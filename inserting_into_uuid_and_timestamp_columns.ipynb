{
 "cells": [
  {
   "cell_type": "code",
   "execution_count": 2,
   "id": "dress-possibility",
   "metadata": {},
   "outputs": [],
   "source": [
    "# Create a connection\n",
    "\n",
    "from cassandra.cluster import Cluster\n",
    "try: \n",
    "    cluster = Cluster(['127.0.0.1']) #If you have a locally installed Apache Cassandra instance\n",
    "    session = cluster.connect()\n",
    "except Exception as e:\n",
    "    print(e)"
   ]
  },
  {
   "cell_type": "code",
   "execution_count": 3,
   "id": "remarkable-child",
   "metadata": {},
   "outputs": [],
   "source": [
    "# Create a keyspace\n",
    "try:\n",
    "    session.execute(\"\"\"\n",
    "    CREATE KEYSPACE IF NOT EXISTS killrvideo\n",
    "    WITH REPLICATION = \n",
    "    { 'class' : 'SimpleStrategy', 'replication_factor' : 1 }\"\"\"\n",
    ")\n",
    "\n",
    "except Exception as e:\n",
    "    print(e)"
   ]
  },
  {
   "cell_type": "code",
   "execution_count": 4,
   "id": "super-crack",
   "metadata": {},
   "outputs": [],
   "source": [
    "# Set the keyspace\n",
    "try:\n",
    "    session.set_keyspace('killrvideo')\n",
    "except Exception as e:\n",
    "    print(e)"
   ]
  },
  {
   "cell_type": "code",
   "execution_count": 69,
   "id": "legendary-terminal",
   "metadata": {},
   "outputs": [],
   "source": [
    "query = \"\"\"\n",
    "CREATE TABLE IF NOT EXISTS videos(\n",
    "    video_id timeuuid,\n",
    "    added_date timestamp,\n",
    "    description text,\n",
    "    title text,\n",
    "    user_id uuid,\n",
    "    PRIMARY KEY(video_id)\n",
    ")\n",
    "\"\"\"\n",
    "try:\n",
    "    session.execute(query)\n",
    "except Exception as e:\n",
    "    print(e)"
   ]
  },
  {
   "cell_type": "markdown",
   "id": "level-junction",
   "metadata": {},
   "source": [
    "- Import data into videos table in killrvideo keyspace"
   ]
  },
  {
   "cell_type": "code",
   "execution_count": 70,
   "id": "massive-notion",
   "metadata": {},
   "outputs": [],
   "source": [
    "import csv\n",
    "import datetime\n",
    "import uuid"
   ]
  },
  {
   "cell_type": "code",
   "execution_count": 72,
   "id": "legendary-skill",
   "metadata": {},
   "outputs": [],
   "source": [
    "file = r'C:\\Users\\abdul\\cassandra-fundamentals\\foundations-of-apache-cassandra\\data\\videos.csv'\n",
    "\n",
    "with open(file, encoding=\"utf8\") as f:\n",
    "    reader = csv.reader(f)\n",
    "    next(reader)\n",
    "    for line in reader:\n",
    "        query = \"INSERT INTO videos(video_id, added_date, description, title, user_id)\"\n",
    "        query = query + \"VALUES(%s, %s, %s, %s, %s)\"\n",
    "        \n",
    "        video_id = uuid.UUID(line[0])\n",
    "        added_date = line[1]\n",
    "        if \"/\" in added_date:\n",
    "            added_date = datetime.datetime.strptime(added_date, \"%m/%d/%Y\").date()\n",
    "        else:\n",
    "            added_date = datetime.datetime.strptime(added_date, \"%Y-%m-%d %H:%M:%S%z\") #2015-03-29 08:00:03+0000\n",
    "            \n",
    "        description = line[2]\n",
    "        title = line[3]\n",
    "        user_id = uuid.UUID(line[4])\n",
    "        session.execute(query, (video_id, added_date, description, title, user_id)) "
   ]
  },
  {
   "cell_type": "code",
   "execution_count": 24,
   "id": "lasting-forum",
   "metadata": {},
   "outputs": [],
   "source": [
    "# with open(file) as f:\n",
    "#     reader = csv.reader(f)\n",
    "#     next(reader)\n",
    "#     for line in reader:\n",
    "#         print(line)"
   ]
  },
  {
   "cell_type": "code",
   "execution_count": 63,
   "id": "clear-bristol",
   "metadata": {},
   "outputs": [],
   "source": [
    "# file = r'C:\\Users\\abdul\\cassandra-fundamentals\\foundations-of-apache-cassandra\\data\\videos.csv'\n",
    "\n",
    "# with open(file, encoding=\"utf8\") as f:\n",
    "#     reader = csv.reader(f)\n",
    "#     next(reader)\n",
    "#     for line in reader:\n",
    "#         query = \"INSERT INTO videos(video_id, added_date, description, title, user_id)\"\n",
    "#         query = query + \"VALUES(%s, %s, %s, %s, %s)\"\n",
    "        \n",
    "#         added_date = uuid.UUID(line[0])\n",
    "#         user_id = uuid.UUID(line[4])\n",
    "#         session.execute(query, (added_date, line[1], line[2], line[3], user_id))"
   ]
  },
  {
   "cell_type": "code",
   "execution_count": 73,
   "id": "parliamentary-progressive",
   "metadata": {},
   "outputs": [
    {
     "name": "stdout",
     "output_type": "stream",
     "text": [
      "26461a70-14bd-11e5-ad08-8438355b7e3a 2014-05-06 23:00:00 At Comcast we are working on the future of television. Change and innovation are happening more rapidly than ever thanks to the cloud based X1 platform ... Webinar: Building Blocks for the Future of Television 10d5c76c-8767-4db3-8050-e19e015b524c\n",
      "2645e79c-14bd-11e5-a456-8438355b7e3a 2011-10-20 23:00:00 DataStax is the developer of DataStax Enterprise, a distributed, scalable, and highly available database platform that delivers optimal performance either on ... DataStax Cassandra Tutorials - Understanding partitioning and replication in Cassandra 10d5c76c-8767-4db3-8050-e19e015b524c\n",
      "9056808b-ca65-1bfb-9957-3bea148dfdce 2015-03-09 00:00:02 New hire Chip (Chris Hemsworth) learns it's not easy working alongside Lucious (Kenan Thompson), Cookie (Sasheer Zamata), Jamal (Jay Pharoah), Hakeem ... Empire Promo - SNL 220077ff-be79-4f20-8603-1b9c97dbafa6\n",
      "264601a3-14bd-11e5-8c2e-8438355b7e3a 2011-12-29 23:00:00 Tyler Hobbs - Flexibility: Python Clients for Apache Cassandra DataStax, the commercial leader in Apache Cassandra, along with the NYC Cassandra User ... Cassandra NYC 2011: Tyler Hobbs - Flexibility: Python Clients for Apache Cassandra 10d5c76c-8767-4db3-8050-e19e015b524c\n",
      "fe3c4045-6f37-1223-81be-250dc60cffc8 2015-01-16 22:46:44 Saturday Night Live celebrates 40 years of laughs! Get more SNL on Hulu Plus: http://www.hulu.com/saturday-night-live Get more SNL: ... 40 Years in the Making - Saturday Night Live 539fd1b2-ff34-42c9-80cd-a34c91a772de\n"
     ]
    }
   ],
   "source": [
    "query = \"SELECT * FROM videos LIMIT 5\"\n",
    "try:\n",
    "    rows = session.execute(query)\n",
    "except Exception as e:\n",
    "    print(e)\n",
    "    \n",
    "for row in rows:\n",
    "    print(row.video_id, row.added_date, row.description, row.title, row.user_id)"
   ]
  },
  {
   "cell_type": "code",
   "execution_count": 74,
   "id": "instant-branch",
   "metadata": {},
   "outputs": [
    {
     "name": "stdout",
     "output_type": "stream",
     "text": [
      "Row(system_count_video_id=430)\n"
     ]
    }
   ],
   "source": [
    "query = \"SELECT COUNT(video_id) FROM videos\"\n",
    "try:\n",
    "    rows = session.execute(query)\n",
    "except Exception as e:\n",
    "    print(e)\n",
    "    \n",
    "for row in rows:\n",
    "    print(row)"
   ]
  },
  {
   "cell_type": "code",
   "execution_count": 76,
   "id": "naughty-pointer",
   "metadata": {},
   "outputs": [
    {
     "name": "stdout",
     "output_type": "stream",
     "text": [
      "2015-03-29 08:00:03\n"
     ]
    }
   ],
   "source": [
    "query = \"SELECT * FROM videos WHERE video_id = 352f3b6c-38d7-1c8d-b222-623ba1f44ec1 \"\n",
    "try:\n",
    "    rows = session.execute(query)\n",
    "except Exception as e:\n",
    "    print(e)\n",
    "    \n",
    "for row in rows:\n",
    "    print(row.added_date)"
   ]
  },
  {
   "cell_type": "markdown",
   "id": "adjacent-membership",
   "metadata": {},
   "source": [
    "### Testing added_date inserted"
   ]
  },
  {
   "cell_type": "code",
   "execution_count": 77,
   "id": "lyric-movement",
   "metadata": {},
   "outputs": [
    {
     "name": "stdout",
     "output_type": "stream",
     "text": [
      "2015-03-29 08:00:03\n"
     ]
    }
   ],
   "source": [
    "query = \"SELECT * FROM videos WHERE video_id = 352f3b6c-38d7-1c8d-b222-623ba1f44ec1 \"\n",
    "try:\n",
    "    rows = session.execute(query)\n",
    "except Exception as e:\n",
    "    print(e)\n",
    "    \n",
    "for row in rows:\n",
    "    print(row.added_date)"
   ]
  },
  {
   "cell_type": "code",
   "execution_count": 79,
   "id": "manufactured-cookie",
   "metadata": {},
   "outputs": [
    {
     "name": "stdout",
     "output_type": "stream",
     "text": [
      "2011-10-20 23:00:00\n"
     ]
    }
   ],
   "source": [
    "query = \"SELECT * FROM videos WHERE video_id = 2645e8d1-14bd-11e5-958e-8438355b7e3a \"\n",
    "try:\n",
    "    rows = session.execute(query)\n",
    "except Exception as e:\n",
    "    print(e)\n",
    "    \n",
    "for row in rows:\n",
    "    print(row.added_date)"
   ]
  },
  {
   "cell_type": "markdown",
   "id": "breeding-original",
   "metadata": {},
   "source": [
    "## Drop table"
   ]
  },
  {
   "cell_type": "code",
   "execution_count": 80,
   "id": "senior-uniform",
   "metadata": {},
   "outputs": [],
   "source": [
    "query = \"DROP TABLE IF EXISTS videos\"\n",
    "try:\n",
    "    session.execute(query)\n",
    "except Exception as e:\n",
    "    print(e)"
   ]
  },
  {
   "cell_type": "code",
   "execution_count": 81,
   "id": "frequent-contributor",
   "metadata": {},
   "outputs": [],
   "source": [
    "session.shutdown()\n",
    "cluster.shutdown()"
   ]
  },
  {
   "cell_type": "code",
   "execution_count": 65,
   "id": "spiritual-draft",
   "metadata": {},
   "outputs": [],
   "source": [
    "# import datetime"
   ]
  },
  {
   "cell_type": "code",
   "execution_count": 66,
   "id": "vocational-clinton",
   "metadata": {},
   "outputs": [],
   "source": [
    "# datetime.datetime.strptime(\"10/5/2011\", \"%m/%d/%Y\")"
   ]
  },
  {
   "cell_type": "code",
   "execution_count": 67,
   "id": "opening-pepper",
   "metadata": {},
   "outputs": [],
   "source": [
    "# datetime.datetime.strptime(\"2015-03-29 08:00:03+0000\", \"%Y-%m-%d %H:%M:%S%z\")"
   ]
  },
  {
   "cell_type": "code",
   "execution_count": null,
   "id": "elder-death",
   "metadata": {},
   "outputs": [],
   "source": []
  }
 ],
 "metadata": {
  "kernelspec": {
   "display_name": "Python 3",
   "language": "python",
   "name": "python3"
  },
  "language_info": {
   "codemirror_mode": {
    "name": "ipython",
    "version": 3
   },
   "file_extension": ".py",
   "mimetype": "text/x-python",
   "name": "python",
   "nbconvert_exporter": "python",
   "pygments_lexer": "ipython3",
   "version": "3.7.6"
  }
 },
 "nbformat": 4,
 "nbformat_minor": 5
}
