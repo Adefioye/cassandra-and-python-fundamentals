{
 "cells": [
  {
   "cell_type": "code",
   "execution_count": 1,
   "id": "decimal-young",
   "metadata": {},
   "outputs": [],
   "source": [
    "# Create a connection\n",
    "\n",
    "from cassandra.cluster import Cluster\n",
    "try: \n",
    "    cluster = Cluster(['127.0.0.1']) #If you have a locally installed Apache Cassandra instance\n",
    "    session = cluster.connect()\n",
    "except Exception as e:\n",
    "    print(e)"
   ]
  },
  {
   "cell_type": "code",
   "execution_count": 2,
   "id": "focused-column",
   "metadata": {},
   "outputs": [],
   "source": [
    "# Create a keyspace\n",
    "try:\n",
    "    session.execute(\"\"\"\n",
    "    CREATE KEYSPACE IF NOT EXISTS killrvideo\n",
    "    WITH REPLICATION = \n",
    "    { 'class' : 'SimpleStrategy', 'replication_factor' : 1 }\"\"\"\n",
    ")\n",
    "\n",
    "except Exception as e:\n",
    "    print(e)"
   ]
  },
  {
   "cell_type": "code",
   "execution_count": 3,
   "id": "ordinary-sauce",
   "metadata": {},
   "outputs": [],
   "source": [
    "# Set the keyspace\n",
    "try:\n",
    "    session.set_keyspace('killrvideo')\n",
    "except Exception as e:\n",
    "    print(e)"
   ]
  },
  {
   "cell_type": "markdown",
   "id": "permanent-cologne",
   "metadata": {},
   "source": [
    "- Create table videos"
   ]
  },
  {
   "cell_type": "code",
   "execution_count": 24,
   "id": "coated-guard",
   "metadata": {},
   "outputs": [],
   "source": [
    "query = \"\"\"\n",
    "CREATE TABLE IF NOT EXISTS videos(\n",
    "    video_id text,\n",
    "    added_date text,\n",
    "    title text,\n",
    "    PRIMARY KEY (video_id)\n",
    ")\n",
    "\"\"\"\n",
    "try:\n",
    "    session.execute(query)\n",
    "except Exception as e:\n",
    "    print(e)"
   ]
  },
  {
   "cell_type": "code",
   "execution_count": 21,
   "id": "republican-jackson",
   "metadata": {},
   "outputs": [],
   "source": [
    "# query = \"\"\"\n",
    "#     COPY videos(video_id, added_date, title)\n",
    "#     FROM 'videos.csv'\n",
    "#     WITH HEADER=TRUE;\n",
    "# \"\"\"\n",
    "# try:\n",
    "#     session.execute(query)\n",
    "# except Exception as e:\n",
    "#     print(e)"
   ]
  },
  {
   "cell_type": "code",
   "execution_count": 25,
   "id": "preceding-hungarian",
   "metadata": {},
   "outputs": [],
   "source": [
    "import csv"
   ]
  },
  {
   "cell_type": "code",
   "execution_count": 27,
   "id": "incomplete-revision",
   "metadata": {},
   "outputs": [],
   "source": [
    "file = r'C:\\Users\\abdul\\cassandra-fundamentals\\foundations-of-apache-cassandra\\videos.csv'\n",
    "\n",
    "with open(file) as f:\n",
    "    csvreader = csv.reader(f)\n",
    "    next(csvreader)\n",
    "    for line in csvreader:\n",
    "        try:\n",
    "            query = \"INSERT INTO videos(video_id, added_date, title)\"\n",
    "            query = query + \"VALUES(%s, %s, %s)\"\n",
    "        \n",
    "            session.execute(query, (line[0], line[1], line[2]))\n",
    "        except Exception as e:\n",
    "            print(e)"
   ]
  },
  {
   "cell_type": "code",
   "execution_count": 20,
   "id": "hired-toddler",
   "metadata": {},
   "outputs": [],
   "source": [
    "# file = r'C:\\Users\\abdul\\cassandra-fundamentals\\foundations-of-apache-cassandra\\videos.csv'\n",
    "\n",
    "# with open(file) as f:\n",
    "#     csvreader = csv.reader(f)\n",
    "#     next(csvreader)\n",
    "#     for line in csvreader:\n",
    "#         print(line)"
   ]
  },
  {
   "cell_type": "markdown",
   "id": "nearby-marine",
   "metadata": {},
   "source": [
    "- Lets test the INSERT operation"
   ]
  },
  {
   "cell_type": "code",
   "execution_count": 28,
   "id": "alpha-pennsylvania",
   "metadata": {},
   "outputs": [
    {
     "name": "stdout",
     "output_type": "stream",
     "text": [
      "3452f7de-14bd-11e5-855e-8738355b7e3a 3/17/2013 Cassandra Intro\n",
      "5645f8bd-14bd-11e5-af1a-8638355b8e3a 4/16/2013 What is DataStax Enterprise?\n",
      "4845ed97-14bd-11e5-8a40-8338255b7e33 10/16/2013 DataStax Studio\n",
      "245e8024-14bd-11e5-9743-8238356b7e32 4/3/2012 Cassandra & SSDs\n",
      "1645ea59-14bd-11e5-a993-8138354b7e31 1/29/2014 Cassandra History\n"
     ]
    }
   ],
   "source": [
    "query = \"SELECT * FROM videos\"\n",
    "try:\n",
    "    rows = session.execute(query)\n",
    "except Exception as e:\n",
    "    print(e)\n",
    "    \n",
    "for row in rows:\n",
    "    print(row.video_id, row.added_date, row.title)"
   ]
  },
  {
   "cell_type": "markdown",
   "id": "valuable-effort",
   "metadata": {},
   "source": [
    "- Drop videos table"
   ]
  },
  {
   "cell_type": "code",
   "execution_count": 29,
   "id": "dress-extreme",
   "metadata": {},
   "outputs": [],
   "source": [
    "query = \"DROP TABLE IF EXISTS videos\"\n",
    "try:\n",
    "    session.execute(query)\n",
    "except Exception as e:\n",
    "    print(e)"
   ]
  },
  {
   "cell_type": "markdown",
   "id": "geographic-speech",
   "metadata": {},
   "source": [
    "Close connection and cluster"
   ]
  },
  {
   "cell_type": "code",
   "execution_count": 30,
   "id": "applied-decade",
   "metadata": {},
   "outputs": [],
   "source": [
    "session.shutdown()\n",
    "cluster.shutdown()"
   ]
  },
  {
   "cell_type": "code",
   "execution_count": null,
   "id": "intended-librarian",
   "metadata": {},
   "outputs": [],
   "source": []
  }
 ],
 "metadata": {
  "kernelspec": {
   "display_name": "Python 3",
   "language": "python",
   "name": "python3"
  },
  "language_info": {
   "codemirror_mode": {
    "name": "ipython",
    "version": 3
   },
   "file_extension": ".py",
   "mimetype": "text/x-python",
   "name": "python",
   "nbconvert_exporter": "python",
   "pygments_lexer": "ipython3",
   "version": "3.7.6"
  }
 },
 "nbformat": 4,
 "nbformat_minor": 5
}
